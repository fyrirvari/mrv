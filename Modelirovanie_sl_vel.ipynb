{
 "cells": [
  {
   "cell_type": "markdown",
   "metadata": {},
   "source": [
    "# Моделирование случайных величин. Вариант 6.\n",
    "\n",
    "## Постановка задачи\n",
    "\n",
    "### Случайная величина $\\eta$ - Время обслуживания покупателя в кассе магазина. Пусть $\\eta$ распределена показательно с параметром $\\lambda$.\n",
    "\n",
    "\n",
    "Найдем обратную ф-ию для ф-ии распределения:\n",
    "$$\n",
    "f(x)=\n",
    "\\begin{cases}\n",
    "    0                       & \\text{, если } x < 0\\\\\n",
    "    \\lambda e^{-\\lambda x}  & \\text{, если } x \\ge 0\n",
    "\\end{cases}\n",
    "\\text{, где } \\lambda > 0\n",
    "$$\n",
    "\n",
    "$$\n",
    "F(x)=\n",
    "\\begin{cases}\n",
    "    0                       & \\text{, если } x < 0\\\\\n",
    "    1 - e^{-\\lambda x}  & \\text{, если } x \\ge 0\n",
    "\\end{cases}\n",
    "$$\n",
    "\n",
    "$$\n",
    "t = 1 - e^{-\\lambda x}\n",
    "$$\n",
    "\n",
    "$$\n",
    "\\rightarrow x = -\\frac{ln(1 - t)}{\\lambda}\n",
    "$$\n",
    "\n",
    "$$\n",
    "\\rightarrow G(t) = F^{-1}(t) = -\\frac{ln(1 - t)}{\\lambda} \\text{, где } t \\in [0, 1]\n",
    "$$"
   ]
  },
  {
   "cell_type": "code",
   "execution_count": 1,
   "metadata": {},
   "outputs": [],
   "source": [
    "import numpy as np\n",
    "import matplotlib.pyplot as plt\n",
    "from scipy.stats import chisquare\n",
    "import random\n",
    "import pandas as pd"
   ]
  },
  {
   "cell_type": "code",
   "execution_count": 2,
   "metadata": {},
   "outputs": [],
   "source": [
    "\n",
    "def get_functions(lmd):\n",
    "    def f(x):\n",
    "        if x < 0:\n",
    "            return 0\n",
    "        else:\n",
    "            return lmd * np.exp(-lmd * x)\n",
    "\n",
    "    def F(x):\n",
    "        if x < 0:\n",
    "            return 0\n",
    "        else:\n",
    "            return 1 - np.exp(-lmd * x)\n",
    "\n",
    "    def G(t):\n",
    "        return -np.log(1 - t) / lmd\n",
    "    return f, F, G\n"
   ]
  },
  {
   "cell_type": "markdown",
   "metadata": {},
   "source": [
    "## Визуализация функции распределения"
   ]
  },
  {
   "cell_type": "code",
   "execution_count": 3,
   "metadata": {},
   "outputs": [],
   "source": [
    "lmd = 1\n",
    "f, F, G = get_functions(lmd)"
   ]
  },
  {
   "cell_type": "code",
   "execution_count": 4,
   "metadata": {},
   "outputs": [
    {
     "data": {
      "image/png": "[encoded data removed]",
      "text/plain": [
       "<Figure size 648x360 with 1 Axes>"
      ]
     },
     "metadata": {
      "needs_background": "light"
     },
     "output_type": "display_data"
    }
   ],
   "source": [
    "xs = np.linspace(-2, 5, 100)\n",
    "plt.figure(figsize=(9, 5))\n",
    "plt.plot(xs, list(map(F, xs)), label=f\"F(x), λ={lmd}\")\n",
    "plt.xlabel(\"x\")\n",
    "plt.ylabel(\"t\")\n",
    "plt.legend()\n",
    "plt.show()"
   ]
  },
  {
   "cell_type": "markdown",
   "metadata": {},
   "source": [
    "## Часть №1\n",
    "\n",
    "Задание:  \n",
    "Написать первую часть программы - \"розыгрыш\" значений случайной величины. Эта часть должна включать в себя отображение содержания задачи, пользовательский интерфейс для ввода необходимых параметров, вывод результатов.\n",
    "\n",
    "Для непрерывной случайной величины значения требуется расположить в порядке возрастания: $x_{(1)} \\le x_{(2)}\\le ... \\le x_{(n)}$. Здесь $x_{(j)}$ - j-е по возрастанию число среди наблюдений $x_1, x_2, ..., x_n$ \n"
   ]
  },
  {
   "cell_type": "code",
   "execution_count": 6,
   "metadata": {},
   "outputs": [
    {
     "name": "stdout",
     "output_type": "stream",
     "text": [
      "λ = 0.2, n = 20\n"
     ]
    },
    {
     "data": {
      "image/png": "[encoded data removed]",
      "text/plain": [
       "<Figure size 648x360 with 1 Axes>"
      ]
     },
     "metadata": {
      "needs_background": "light"
     },
     "output_type": "display_data"
    }
   ],
   "source": [
    "lmd = float(input(\"Введите параметр λ\"))\n",
    "f, F, G = get_functions(lmd)\n",
    "\n",
    "n = int(input(\"Введите число проводимых экспериментов\"))\n",
    "\n",
    "print(f\"λ = {lmd}, n = {n}\")\n",
    "\n",
    "xs = list()\n",
    "ts = list()\n",
    "for i in range(n):\n",
    "    ts.append(random.random())\n",
    "    xs.append(G(ts[-1]))\n",
    "\n",
    "plt.figure(figsize=(9, 5))\n",
    "plt.scatter(xs, ts, s=1, label=\"G(t)\", linewidths=2)\n",
    "plt.xlabel(\"x\")\n",
    "plt.ylabel(\"t\")\n",
    "plt.xlim((-2, max(xs)+1))\n",
    "plt.legend()\n",
    "plt.show()"
   ]
  },
  {
   "cell_type": "code",
   "execution_count": 7,
   "metadata": {},
   "outputs": [
    {
     "name": "stdout",
     "output_type": "stream",
     "text": [
      "x_(1) = 0.04478063519812987\n",
      "x_(2) = 0.09951920575633155\n",
      "x_(3) = 0.22106454334507936\n",
      "x_(4) = 1.3464150643428598\n",
      "x_(5) = 2.003079565327057\n",
      "x_(6) = 2.29321059241879\n",
      "x_(7) = 2.3091540487737796\n",
      "x_(8) = 2.4089366824103053\n",
      "x_(9) = 4.114939636094048\n",
      "x_(10) = 4.1794155611573975\n"
     ]
    }
   ],
   "source": [
    "x_sort = xs.copy()\n",
    "x_sort.sort()\n",
    "print(\"\\n\".join([f\"x_({i + 1}) = {x_el}\" for i, x_el in enumerate(x_sort[:10])]))"
   ]
  },
  {
   "cell_type": "markdown",
   "metadata": {},
   "source": [
    "## Часть 2\n",
    "\n",
    "Определить теоретические и выборочные числовые характеристики: $E\\eta, D\\eta, \\bar{x}, S^2, \\widehat{Me}, \\widehat{R}$. Составить таблицу:\n",
    "\n",
    "| $E\\eta$ | $\\bar{x}$ | $\\mid E\\eta-\\bar{x}\\mid$ | $D\\eta$ | $S^2$ | $\\mid D\\eta-S^2\\mid$ | $\\widehat{Me}$ | $\\widehat{R}$ | \n",
    "|:-----:|:-----:|:-----:|:-----:|:-----:|:-----:|:-----:|:-----:| \n",
    "|$\\dots$|$\\dots$|$\\dots$|$\\dots$|$\\dots$|$\\dots$|$\\dots$|$\\dots$|\n",
    " \n",
    "Построить графики теоретической $F_\\eta(x)$ и выборочной $\\widehat{F}_\\eta(x)$ функций распределения. Вычислить меру их расхождений $D$.\n",
    "\n",
    "Определить из условий задачи закон распределения случайной величины $\\eta$, если он не указан явно. Организовать ввод границ промежутков $\\Delta'_1, \\Delta'_2, ..., \\Delta'_k$. Построить гистограмму. Вычислить теоретическую плотность распределения $f(z_j)$ в точке $z_j$ - середине промежутка $\\Delta'_j$. Результаты оформить в виде таблицы:\n",
    "\n",
    "||||||\n",
    "|:-:|:-:|:-:|:-:|:-:|\n",
    "|$z_j$|$z_1$|$z_2$|$\\dots$|$z_k$|\n",
    "|$f_\\eta(z_j)$|$f_\\eta(z_1)$|$f_\\eta(z_2)$|$\\dots$|$f_\\eta(z_k)$|\n",
    "|$\\frac{n_j}{n\\mid\\Delta'_j\\mid}$|$\\frac{n_1}{n\\mid\\Delta'_1\\mid}$|$\\frac{n_2}{n\\mid\\Delta'_2\\mid}$|$\\dots$|$\\frac{n_k}{n\\mid\\Delta'_k\\mid}$|"
   ]
  },
  {
   "cell_type": "code",
   "execution_count": 8,
   "metadata": {},
   "outputs": [
    {
     "data": {
      "text/html": [
       "<div>\n",
       "<style scoped>\n",
       "    .dataframe tbody tr th:only-of-type {\n",
       "        vertical-align: middle;\n",
       "    }\n",
       "\n",
       "    .dataframe tbody tr th {\n",
       "        vertical-align: top;\n",
       "    }\n",
       "\n",
       "    .dataframe thead th {\n",
       "        text-align: right;\n",
       "    }\n",
       "</style>\n",
       "<table border=\"1\" class=\"dataframe\">\n",
       "  <thead>\n",
       "    <tr style=\"text-align: right;\">\n",
       "      <th></th>\n",
       "      <th>Eη</th>\n",
       "      <th>x_bar</th>\n",
       "      <th>|Eη-x_bar|</th>\n",
       "      <th>Dη</th>\n",
       "      <th>S^2</th>\n",
       "      <th>|Dη-S^2|</th>\n",
       "      <th>Me</th>\n",
       "      <th>R</th>\n",
       "    </tr>\n",
       "  </thead>\n",
       "  <tbody>\n",
       "    <tr>\n",
       "      <th></th>\n",
       "      <td>5.0</td>\n",
       "      <td>5.047586</td>\n",
       "      <td>0.047586</td>\n",
       "      <td>25.0</td>\n",
       "      <td>18.267741</td>\n",
       "      <td>6.732259</td>\n",
       "      <td>4.603896</td>\n",
       "      <td>17.251879</td>\n",
       "    </tr>\n",
       "  </tbody>\n",
       "</table>\n",
       "</div>"
      ],
      "text/plain": [
       "   Eη     x_bar  |Eη-x_bar|    Dη        S^2  |Dη-S^2|        Me          R\n",
       "  5.0  5.047586    0.047586  25.0  18.267741  6.732259  4.603896  17.251879"
      ]
     },
     "execution_count": 8,
     "metadata": {},
     "output_type": "execute_result"
    }
   ],
   "source": [
    "x_bar = np.mean(x_sort) # выборочное среднее\n",
    "S_2 = np.mean(np.power(x_sort - x_bar, 2)) # выборочная дисперсия\n",
    "R_wh = x_sort[-1] - x_sort[0] # размах выборки\n",
    "Me_wh = np.median(x_sort) # выборочная медиана\n",
    "E_eta = 1 / lmd # математическое ожидание\n",
    "D_eta = 1 / lmd**2 # дисперсия \n",
    "\n",
    "pd.DataFrame(\n",
    "    [[E_eta, x_bar, np.abs(E_eta - x_bar), D_eta, S_2, np.abs(D_eta - S_2), Me_wh, R_wh]],\n",
    "    columns=[\"Eη\", \"x_bar\", \"|Eη-x_bar|\", \"Dη\", \"S^2\", \"|Dη-S^2|\", \"Me\", \"R\"],\n",
    "    index=[\"\"]\n",
    ")"
   ]
  },
  {
   "cell_type": "code",
   "execution_count": 9,
   "metadata": {},
   "outputs": [
    {
     "data": {
      "image/png": "[encoded data removed]",
      "text/plain": [
       "<Figure size 648x360 with 1 Axes>"
      ]
     },
     "metadata": {
      "needs_background": "light"
     },
     "output_type": "display_data"
    }
   ],
   "source": [
    "plt.figure(figsize=(9, 5))\n",
    "plt.plot(np.linspace(-1, x_sort[-1] + 5, 200), list(map(F, np.linspace(-1, x_sort[-1] + 5, 200))), label=\"F(x)\")\n",
    "plt.step([0] + x_sort + [x_sort[-1] + 5],[0] + [(i+1)/n for i in range(n)] + [1], label=\"F^(x)\", where=\"post\")\n",
    "plt.xlabel(\"x\")\n",
    "plt.ylabel(\"t\")\n",
    "plt.legend()\n",
    "plt.show()"
   ]
  },
  {
   "cell_type": "code",
   "execution_count": 10,
   "metadata": {},
   "outputs": [
    {
     "name": "stdout",
     "output_type": "stream",
     "text": [
      "Мера расхождения F(x) и F^(x) - D = 0.1609\n"
     ]
    }
   ],
   "source": [
    "D = 0\n",
    "for j in range(n):\n",
    "    D_cur = max((j+1)/n - F(x_sort[j]), F(x_sort[j]) - j/n)\n",
    "    if D_cur > D:\n",
    "        D = D_cur\n",
    "print(f\"Мера расхождения F(x) и F^(x) - D = {D:.4f}\")"
   ]
  },
  {
   "cell_type": "code",
   "execution_count": 12,
   "metadata": {},
   "outputs": [
    {
     "name": "stdout",
     "output_type": "stream",
     "text": [
      "∆'1 - [0.00,1.50]\n",
      "∆'2 - [1.50,2.75]\n",
      "∆'3 - [2.75,5.00]\n",
      "∆'4 - [5.00,10.00]\n"
     ]
    },
    {
     "data": {
      "image/png": "[encoded data removed]",
      "text/plain": [
       "<Figure size 720x360 with 1 Axes>"
      ]
     },
     "metadata": {
      "needs_background": "light"
     },
     "output_type": "display_data"
    }
   ],
   "source": [
    "k = int(input(\"Введите количество промежутков\"))\\\n",
    "\n",
    "limits = list()\n",
    "for i in range(k):\n",
    "    limits.append(tuple(map(float, input(f\"Введите границы ∆'{i+1}\").split())))\n",
    "\n",
    "data = [[],[],[]]\n",
    "for i, (left, right) in enumerate(limits):\n",
    "    nj = 0\n",
    "    for x in x_sort:\n",
    "        if x >= left and x < right:\n",
    "            nj += 1\n",
    "    \n",
    "    data[0].append((left + right) / 2) # z_j\n",
    "    data[1].append(f(data[0][-1])) # f(z_j)\n",
    "    data[2].append(nj / n / (right - left)) # height\n",
    "\n",
    "    print(f\"∆'{i+1} - [{left:.2f},{right:.2f}]\")\n",
    "\n",
    "data = pd.DataFrame(data, index=[\"zj\", \"f(zj)\", \"nj/(n|∆'j|)\"], columns=[f\"∆'{i+1}\" for i in range(k)])\n",
    "\n",
    "plt.figure(figsize=(10, 5))\n",
    "plt.bar([f\"∆'{i+1}\" for i in range(len(data.iloc[-1, :]))], data.iloc[-1, :], align=\"center\")\n",
    "plt.show()"
   ]
  },
  {
   "cell_type": "code",
   "execution_count": 13,
   "metadata": {},
   "outputs": [
    {
     "data": {
      "text/html": [
       "<div>\n",
       "<style scoped>\n",
       "    .dataframe tbody tr th:only-of-type {\n",
       "        vertical-align: middle;\n",
       "    }\n",
       "\n",
       "    .dataframe tbody tr th {\n",
       "        vertical-align: top;\n",
       "    }\n",
       "\n",
       "    .dataframe thead th {\n",
       "        text-align: right;\n",
       "    }\n",
       "</style>\n",
       "<table border=\"1\" class=\"dataframe\">\n",
       "  <thead>\n",
       "    <tr style=\"text-align: right;\">\n",
       "      <th></th>\n",
       "      <th>∆'1</th>\n",
       "      <th>∆'2</th>\n",
       "      <th>∆'3</th>\n",
       "      <th>∆'4</th>\n",
       "    </tr>\n",
       "  </thead>\n",
       "  <tbody>\n",
       "    <tr>\n",
       "      <th>zj</th>\n",
       "      <td>0.750000</td>\n",
       "      <td>2.125000</td>\n",
       "      <td>3.875000</td>\n",
       "      <td>7.500000</td>\n",
       "    </tr>\n",
       "    <tr>\n",
       "      <th>f(zj)</th>\n",
       "      <td>0.172142</td>\n",
       "      <td>0.130754</td>\n",
       "      <td>0.092141</td>\n",
       "      <td>0.044626</td>\n",
       "    </tr>\n",
       "    <tr>\n",
       "      <th>nj/(n|∆'j|)</th>\n",
       "      <td>0.133333</td>\n",
       "      <td>0.160000</td>\n",
       "      <td>0.044444</td>\n",
       "      <td>0.080000</td>\n",
       "    </tr>\n",
       "  </tbody>\n",
       "</table>\n",
       "</div>"
      ],
      "text/plain": [
       "                  ∆'1       ∆'2       ∆'3       ∆'4\n",
       "zj           0.750000  2.125000  3.875000  7.500000\n",
       "f(zj)        0.172142  0.130754  0.092141  0.044626\n",
       "nj/(n|∆'j|)  0.133333  0.160000  0.044444  0.080000"
      ]
     },
     "execution_count": 13,
     "metadata": {},
     "output_type": "execute_result"
    }
   ],
   "source": [
    "data"
   ]
  },
  {
   "cell_type": "code",
   "execution_count": 14,
   "metadata": {},
   "outputs": [
    {
     "name": "stdout",
     "output_type": "stream",
     "text": [
      "max|nj/(n|∆'j|) - f(zj)| = 0.0477\n"
     ]
    }
   ],
   "source": [
    "print(\"max|nj/(n|∆'j|) - f(zj)| = {:.4f}\".format(np.max(np.abs(data.iloc[-1, :] - data.iloc[1, :]))))"
   ]
  },
  {
   "cell_type": "markdown",
   "metadata": {},
   "source": [
    "## Часть 3\n",
    "\n",
    "1. Ввод числа $k$ интервалов $\\Delta''_1=(-\\inf,z_1), \\Delta''_2=[z_1,z_2),\\dots,\\Delta''_k=[z_{k-1},\\inf)$. Выбор границ интервалов $z_1,z_2,\\dots,z_{k-1}$.\n",
    "2. Отображение гипотезы в виде теоретических вероятностей $q_1,q_2,\\dots,q_k$.\n",
    "3. Ввод уровня значимости $\\alpha$.\n",
    "4. Отображение вычисленного значения $\\bar{F}(R_0)$ и решения о принятии или отвержении гипотезы $H_0$."
   ]
  },
  {
   "cell_type": "markdown",
   "metadata": {},
   "source": [
    "$$\n",
    "f_{x_r^2}(x)=\n",
    "\\begin{cases}\n",
    "    0                                       & \\text{, если } x \\le 0\\\\\n",
    "    2^{-r/2}[Г(r/2)]^{-1}x^{r/2-1}e^{-x/2}  & \\text{, если } x > 0\n",
    "\\end{cases}\n",
    "$$"
   ]
  },
  {
   "cell_type": "code",
   "execution_count": 15,
   "metadata": {},
   "outputs": [],
   "source": [
    "def integral(f, a, b, n=1000):\n",
    "    return np.sum([(f(a + (b-a) * k/n) + f(a + (b-a) * (k+1)/n)) * (b-a) / (2*n) for k in range(n)])\n",
    "\n",
    "def Gamma_func(a):\n",
    "    if (a == 1):\n",
    "        return 1\n",
    "    if (a == 0.5):\n",
    "        return np.sqrt(np.pi)\n",
    "\n",
    "    return (a - 1) * Gamma_func(a - 1)\n",
    "\n",
    "def get_density(r):\n",
    "    def f_xr2(x):\n",
    "        if (x <= 0):\n",
    "            return 0\n",
    "        else:\n",
    "            return 1/2**(r/2) * 1/np.round(Gamma_func(r/2)) * x**(r/2 - 1) * np.exp(-x/2)\n",
    "    return f_xr2"
   ]
  },
  {
   "cell_type": "code",
   "execution_count": 16,
   "metadata": {},
   "outputs": [
    {
     "name": "stdout",
     "output_type": "stream",
     "text": [
      "∆''1 = (-inf, 2.0)\n",
      "∆''2 = [2.0, 5.0)\n",
      "∆''3 = [5.0, 7.0)\n",
      "∆''4 = [7.0, 10.0)\n",
      "∆''5 = (10.0, inf)\n",
      "\n",
      "P(η ∈ ∆''1) = 0.3297\n",
      "P(η ∈ ∆''2) = 0.3024\n",
      "P(η ∈ ∆''3) = 0.1213\n",
      "P(η ∈ ∆''4) = 0.1113\n",
      "P(η ∈ ∆''5) = 0.1353\n"
     ]
    }
   ],
   "source": [
    "k2 = int(input(\"Введите число интервалов\"))\n",
    "f_xr2 = get_density(k2 - 1)\n",
    "\n",
    "zs = list()\n",
    "for i in range(k2-1):\n",
    "    zs.append(float(input(f\"Введите z_{i+1}\")))\n",
    "\n",
    "qs = np.array([F(zs[0]), *[F(zs[i+1]) - F(zs[i]) for i in range(len(zs) - 1)], 1 - F(zs[-1])])\n",
    "deltas = [f\"∆''1 = (-inf, {zs[0]})\", *[f\"∆''{i+2} = [{zs[i]}, {zs[i+1]})\" for i in range(len(zs) - 1)], f\"∆''{k2} = ({zs[-1]}, inf)\"]\n",
    "assert len(qs) == k2\n",
    "\n",
    "print(\"\\n\".join(deltas))\n",
    "print()\n",
    "\n",
    "for i, q in enumerate(qs):\n",
    "    print(f\"P(η ∈ ∆''{i + 1}) = {q:.4f}\")"
   ]
  },
  {
   "cell_type": "code",
   "execution_count": 17,
   "metadata": {},
   "outputs": [],
   "source": [
    "def calculate_R0(x, zs):\n",
    "    ns = list()\n",
    "    n = len(x)\n",
    "    nj = 0\n",
    "    i = 0\n",
    "    while i < len(x):\n",
    "        if x[i] < zs[0]:\n",
    "            nj += 1\n",
    "            i += 1\n",
    "        else:\n",
    "            ns.append(nj)\n",
    "            break\n",
    "\n",
    "    for j in range(len(zs) - 1):\n",
    "        nj = 0\n",
    "        while i < len(x):\n",
    "            if x[i] >= zs[j] and x[i] < zs[j+1]:\n",
    "                nj += 1\n",
    "                i += 1\n",
    "            else:\n",
    "                ns.append(nj)\n",
    "                break\n",
    "        if (i == len(x)):\n",
    "            ns.append(nj)\n",
    "    \n",
    "    ns.append(n - i)\n",
    "    assert len(ns) == (len(zs) + 1)\n",
    "    ns = np.array(ns)\n",
    "\n",
    "    # for i, freq in enumerate(ns/n):\n",
    "    #     print(f\"ν(η ∈ ∆''{i + 1}) = {freq:.4f}\")\n",
    "\n",
    "    qs = np.array([F(zs[0]), *[F(zs[i+1]) - F(zs[i]) for i in range(len(zs) - 1)], 1 - F(zs[-1])])\n",
    "    assert len(qs) == (len(zs) + 1)\n",
    "\n",
    "    return chisquare(f_obs=ns, f_exp=qs*n)"
   ]
  },
  {
   "cell_type": "code",
   "execution_count": 18,
   "metadata": {},
   "outputs": [
    {
     "name": "stdout",
     "output_type": "stream",
     "text": [
      "R0 = 4.207025726643124\n",
      "F-(R0) = 0.37871239596077894\n"
     ]
    }
   ],
   "source": [
    "R0, F_R0 = calculate_R0(x_sort, zs)\n",
    "\n",
    "print(f\"R0 = {R0:}\")\n",
    "print(f\"F-(R0) = {F_R0:}\")"
   ]
  },
  {
   "cell_type": "code",
   "execution_count": 19,
   "metadata": {},
   "outputs": [
    {
     "name": "stdout",
     "output_type": "stream",
     "text": [
      "Гипотеза H0 принимается\n"
     ]
    }
   ],
   "source": [
    "alpha = float(input(\"Введите уровень значимости α\"))\n",
    "\n",
    "if F_R0 < alpha:\n",
    "    print(\"R0 принадлежит критической области\")\n",
    "else:\n",
    "    print(\"Гипотеза H0 принимается\")"
   ]
  },
  {
   "cell_type": "code",
   "execution_count": 22,
   "metadata": {},
   "outputs": [
    {
     "name": "stdout",
     "output_type": "stream",
     "text": [
      "λ = 0.10\n",
      "Число экспериментов - 10000\n",
      "Число интервалов - 7\n",
      "Уровень значимости α = 0.50\n",
      "Интервалы:\n",
      "\t∆''1: (-∞, 1.54)\n",
      "\t∆''2: [1.54,3.36)\n",
      "\t∆''3: [3.36,5.60)\n",
      "\t∆''4: [5.60,8.47)\n",
      "\t∆''5: [8.47,12.53)\n",
      "\t∆''6: [12.53,19.46)\n",
      "\t∆''7: [19.46, ∞)\n",
      "Вероятности:\n",
      "\tP(η ∈ ∆''1) = 0.14\n",
      "\tP(η ∈ ∆''2) = 0.14\n",
      "\tP(η ∈ ∆''3) = 0.14\n",
      "\tP(η ∈ ∆''4) = 0.14\n",
      "\tP(η ∈ ∆''5) = 0.14\n",
      "\tP(η ∈ ∆''6) = 0.14\n",
      "\tP(η ∈ ∆''7) = 0.14\n",
      "Гипотеза H0 была принята 530 раз, т.е. в 53.00% случаев из 1000\n"
     ]
    }
   ],
   "source": [
    "lmd = float(input(\"Введите параметр λ\"))\n",
    "N = int(input(\"Введите число опытов\"))\n",
    "n = int(input(\"Введите число проводимых экспериментов\"))\n",
    "f, F, G = get_functions(lmd)\n",
    "\n",
    "k2 = int(input(\"Введите число интервалов\"))\n",
    "f_xr2 = get_density(k2 - 1)\n",
    "\n",
    "# zs = [float(input(f\"Введите z_{i+1}\")) for i in range(k2-1)]\n",
    "zs = [G((i+1)/k2) for i in range(k2-1)]\n",
    "\n",
    "alpha = float(input(\"Введите уровень значимости α\"))\n",
    "\n",
    "hypotisis_accepted = 0\n",
    "for i in range(N):\n",
    "    x_ = [G(random.random()) for _ in range(n)]\n",
    "    x_.sort()\n",
    "\n",
    "    R0, F_R0 = calculate_R0(x_, zs)\n",
    "\n",
    "    if F_R0 >= alpha:\n",
    "        hypotisis_accepted += 1\n",
    "\n",
    "print(f\"λ = {lmd:.2f}\")\n",
    "print(f\"Число экспериментов - {n}\")\n",
    "print(f\"Число интервалов - {k2}\")\n",
    "print(f\"Уровень значимости α = {alpha:.2f}\")\n",
    "print(\"Интервалы:\")\n",
    "intervals = [f\"\\t∆''1: (-∞, {zs[0]:.2f})\"] \n",
    "intervals += [f\"\\t∆''{i + 2}: [{zs[i]:.2f},{zs[i+1]:.2f})\" for i in range(len(zs) - 1)]\n",
    "intervals += [f\"\\t∆''{k2}: [{zs[-1]:.2f}, ∞)\"]\n",
    "print(\"\\n\".join(intervals))\n",
    "print(\"Вероятности:\")\n",
    "P = [f\"\\tP(η ∈ ∆''1) = {F(zs[0]):.2f}\"]\n",
    "P += [f\"\\tP(η ∈ ∆''{i + 2}) = {F(zs[i+1]) - F(zs[i]):.2f}\" for i in range(len(zs) - 1)]\n",
    "P += [f\"\\tP(η ∈ ∆''{k2}) = {1 - F(zs[-1]):.2f}\"]\n",
    "print(\"\\n\".join(P))\n",
    "print(f\"Гипотеза H0 была принята {hypotisis_accepted} раз, т.е. в {(hypotisis_accepted / N) * 100:.2f}% случаев из {N}\")"
   ]
  }
 ],
 "metadata": {
  "interpreter": {
   "hash": "a0d5dd8690045267d360a9896741eccd8155435dbc3ce53a89d2805db155ce81"
  },
  "kernelspec": {
   "display_name": "Python 3.9.4 ('.venv': venv)",
   "language": "python",
   "name": "python3"
  },
  "language_info": {
   "codemirror_mode": {
    "name": "ipython",
    "version": 3
   },
   "file_extension": ".py",
   "mimetype": "text/x-python",
   "name": "python",
   "nbconvert_exporter": "python",
   "pygments_lexer": "ipython3",
   "version": "3.9.4"
  },
  "orig_nbformat": 2
 },
 "nbformat": 4,
 "nbformat_minor": 2
}
